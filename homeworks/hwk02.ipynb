{
 "cells": [
  {
   "cell_type": "markdown",
   "metadata": {},
   "source": [
    "# MAT281 - Tarea 2"
   ]
  },
  {
   "cell_type": "markdown",
   "metadata": {},
   "source": [
    "**Indicaciones**:\n",
    "\n",
    "* En los **Ejercicio 1-8** puedes utilizar tanto `matplotlib` como `altair` según te parezca más conveniente o cómodo, en ambos casos cada gráfico debe tener elementos mínimos como:\n",
    "    - Título\n",
    "    - Nombre de los ejes, leyendas, etc. en formato _amigable_/_humano_, por ejemplo, si la columna del dataframe en cuestión tiene por nombre `casos_confirmados` se espera que el eje del gráfico tenga por nombre `Casos confirmados`.\n",
    "    - Colores adecuados al tipo de datos.\n",
    "    - Un tamaño adecuado para ver con facilidad en una pantalla con resolución HD o FullHD.\n",
    "    - Cada vez que no se cumplan alguna de estos requerimientos se descontará __1 punto__ de la nota final.\n",
    "\n",
    "* Para el **Ejercicio 9** es obligación utilizar `altair`.\n",
    "* Cada ejercicio debe estar acompañado con una celda con comentarios o análisis que puedas desprender de los gráficos."
   ]
  },
  {
   "cell_type": "code",
   "execution_count": 71,
   "metadata": {},
   "outputs": [],
   "source": [
    "import numpy as np\n",
    "import pandas as pd\n",
    "import matplotlib.pyplot as plt\n",
    "import altair as alt\n",
    "import ipywidgets as widgets\n",
    "from scipy.stats import norm\n",
    "\n",
    "from datetime import date\n",
    "from ipywidgets import interactive, interact\n",
    "\n",
    "pd.set_option('display.max_columns', 999)\n",
    "#alt.data_transformers.enable('data_server')\n",
    "alt.data_transformers.disable_max_rows()\n",
    "alt.themes.enable('opaque')\n",
    "\n",
    "%matplotlib inline"
   ]
  },
  {
   "cell_type": "markdown",
   "metadata": {},
   "source": [
    "**COVID-19 en Chile** \n",
    "\n",
    "En esta tarea exploraremos los datos de Covid-19 en Chile a profundidad. Las siguientes celdas cargarán los datos a utilizar en tu sesión. Es importante que leas la documentación de cada conjunto de datos para comprender las columnas."
   ]
  },
  {
   "cell_type": "code",
   "execution_count": 2,
   "metadata": {},
   "outputs": [],
   "source": [
    "start_date = pd.to_datetime(\"2020-04-13\")\n",
    "end_date = pd.to_datetime(\"2020-11-06\")"
   ]
  },
  {
   "cell_type": "code",
   "execution_count": 3,
   "metadata": {},
   "outputs": [
    {
     "data": {
      "text/html": [
       "<div>\n",
       "<style scoped>\n",
       "    .dataframe tbody tr th:only-of-type {\n",
       "        vertical-align: middle;\n",
       "    }\n",
       "\n",
       "    .dataframe tbody tr th {\n",
       "        vertical-align: top;\n",
       "    }\n",
       "\n",
       "    .dataframe thead th {\n",
       "        text-align: right;\n",
       "    }\n",
       "</style>\n",
       "<table border=\"1\" class=\"dataframe\">\n",
       "  <thead>\n",
       "    <tr style=\"text-align: right;\">\n",
       "      <th></th>\n",
       "      <th>poblacion</th>\n",
       "      <th>casos_confirmados</th>\n",
       "      <th>fecha</th>\n",
       "      <th>region_id</th>\n",
       "      <th>region</th>\n",
       "      <th>provincia_id</th>\n",
       "      <th>provincia</th>\n",
       "      <th>comuna_id</th>\n",
       "      <th>comuna</th>\n",
       "      <th>tasa</th>\n",
       "    </tr>\n",
       "  </thead>\n",
       "  <tbody>\n",
       "    <tr>\n",
       "      <th>0</th>\n",
       "      <td>247552.0</td>\n",
       "      <td>270.0</td>\n",
       "      <td>2020-04-27</td>\n",
       "      <td>15.0</td>\n",
       "      <td>Arica y Parinacota</td>\n",
       "      <td>151.0</td>\n",
       "      <td>Arica</td>\n",
       "      <td>15101.0</td>\n",
       "      <td>Arica</td>\n",
       "      <td>109.067994</td>\n",
       "    </tr>\n",
       "    <tr>\n",
       "      <th>1</th>\n",
       "      <td>247552.0</td>\n",
       "      <td>9138.0</td>\n",
       "      <td>2020-10-12</td>\n",
       "      <td>15.0</td>\n",
       "      <td>Arica y Parinacota</td>\n",
       "      <td>151.0</td>\n",
       "      <td>Arica</td>\n",
       "      <td>15101.0</td>\n",
       "      <td>Arica</td>\n",
       "      <td>3691.345657</td>\n",
       "    </tr>\n",
       "    <tr>\n",
       "      <th>2</th>\n",
       "      <td>247552.0</td>\n",
       "      <td>596.0</td>\n",
       "      <td>2020-05-29</td>\n",
       "      <td>15.0</td>\n",
       "      <td>Arica y Parinacota</td>\n",
       "      <td>151.0</td>\n",
       "      <td>Arica</td>\n",
       "      <td>15101.0</td>\n",
       "      <td>Arica</td>\n",
       "      <td>240.757497</td>\n",
       "    </tr>\n",
       "    <tr>\n",
       "      <th>3</th>\n",
       "      <td>247552.0</td>\n",
       "      <td>6131.0</td>\n",
       "      <td>2020-08-17</td>\n",
       "      <td>15.0</td>\n",
       "      <td>Arica y Parinacota</td>\n",
       "      <td>151.0</td>\n",
       "      <td>Arica</td>\n",
       "      <td>15101.0</td>\n",
       "      <td>Arica</td>\n",
       "      <td>2476.651370</td>\n",
       "    </tr>\n",
       "    <tr>\n",
       "      <th>4</th>\n",
       "      <td>247552.0</td>\n",
       "      <td>353.0</td>\n",
       "      <td>2020-05-11</td>\n",
       "      <td>15.0</td>\n",
       "      <td>Arica y Parinacota</td>\n",
       "      <td>151.0</td>\n",
       "      <td>Arica</td>\n",
       "      <td>15101.0</td>\n",
       "      <td>Arica</td>\n",
       "      <td>142.596303</td>\n",
       "    </tr>\n",
       "  </tbody>\n",
       "</table>\n",
       "</div>"
      ],
      "text/plain": [
       "   poblacion  casos_confirmados      fecha  region_id              region  \\\n",
       "0   247552.0              270.0 2020-04-27       15.0  Arica y Parinacota   \n",
       "1   247552.0             9138.0 2020-10-12       15.0  Arica y Parinacota   \n",
       "2   247552.0              596.0 2020-05-29       15.0  Arica y Parinacota   \n",
       "3   247552.0             6131.0 2020-08-17       15.0  Arica y Parinacota   \n",
       "4   247552.0              353.0 2020-05-11       15.0  Arica y Parinacota   \n",
       "\n",
       "   provincia_id provincia  comuna_id comuna         tasa  \n",
       "0         151.0     Arica    15101.0  Arica   109.067994  \n",
       "1         151.0     Arica    15101.0  Arica  3691.345657  \n",
       "2         151.0     Arica    15101.0  Arica   240.757497  \n",
       "3         151.0     Arica    15101.0  Arica  2476.651370  \n",
       "4         151.0     Arica    15101.0  Arica   142.596303  "
      ]
     },
     "execution_count": 3,
     "metadata": {},
     "output_type": "execute_result"
    }
   ],
   "source": [
    "# https://github.com/MinCiencia/Datos-COVID19/tree/master/output/producto6\n",
    "confirmados = (\n",
    "    pd.read_csv(\"https://raw.githubusercontent.com/MinCiencia/Datos-COVID19/master/output/producto6/bulk/data.csv\")\n",
    "    .rename(columns=lambda x: x.lower().replace(\" \", \"_\"))\n",
    "    .assign(fecha=lambda x: pd.to_datetime(x[\"fecha\"]))\n",
    "    .loc[lambda x: x[\"fecha\"] >= start_date]\n",
    "    .dropna()\n",
    "    .astype({\"casos_confirmados\": np.float, \"tasa\": np.float})\n",
    ")\n",
    "\n",
    "confirmados.head()"
   ]
  },
  {
   "cell_type": "code",
   "execution_count": 4,
   "metadata": {},
   "outputs": [
    {
     "data": {
      "text/html": [
       "<div>\n",
       "<style scoped>\n",
       "    .dataframe tbody tr th:only-of-type {\n",
       "        vertical-align: middle;\n",
       "    }\n",
       "\n",
       "    .dataframe tbody tr th {\n",
       "        vertical-align: top;\n",
       "    }\n",
       "\n",
       "    .dataframe thead th {\n",
       "        text-align: right;\n",
       "    }\n",
       "</style>\n",
       "<table border=\"1\" class=\"dataframe\">\n",
       "  <thead>\n",
       "    <tr style=\"text-align: right;\">\n",
       "      <th></th>\n",
       "      <th>region</th>\n",
       "      <th>codigo_region</th>\n",
       "      <th>comuna</th>\n",
       "      <th>codigo_comuna</th>\n",
       "      <th>poblacion</th>\n",
       "      <th>fecha</th>\n",
       "      <th>casos_activos</th>\n",
       "    </tr>\n",
       "  </thead>\n",
       "  <tbody>\n",
       "    <tr>\n",
       "      <th>0</th>\n",
       "      <td>Arica y Parinacota</td>\n",
       "      <td>15</td>\n",
       "      <td>Arica</td>\n",
       "      <td>15101.0</td>\n",
       "      <td>247552.0</td>\n",
       "      <td>2020-04-13</td>\n",
       "      <td>88.0</td>\n",
       "    </tr>\n",
       "    <tr>\n",
       "      <th>1</th>\n",
       "      <td>Arica y Parinacota</td>\n",
       "      <td>15</td>\n",
       "      <td>Camarones</td>\n",
       "      <td>15102.0</td>\n",
       "      <td>1233.0</td>\n",
       "      <td>2020-04-13</td>\n",
       "      <td>0.0</td>\n",
       "    </tr>\n",
       "    <tr>\n",
       "      <th>2</th>\n",
       "      <td>Arica y Parinacota</td>\n",
       "      <td>15</td>\n",
       "      <td>General Lagos</td>\n",
       "      <td>15202.0</td>\n",
       "      <td>810.0</td>\n",
       "      <td>2020-04-13</td>\n",
       "      <td>0.0</td>\n",
       "    </tr>\n",
       "    <tr>\n",
       "      <th>3</th>\n",
       "      <td>Arica y Parinacota</td>\n",
       "      <td>15</td>\n",
       "      <td>Putre</td>\n",
       "      <td>15201.0</td>\n",
       "      <td>2515.0</td>\n",
       "      <td>2020-04-13</td>\n",
       "      <td>0.0</td>\n",
       "    </tr>\n",
       "    <tr>\n",
       "      <th>4</th>\n",
       "      <td>Tarapaca</td>\n",
       "      <td>1</td>\n",
       "      <td>Alto Hospicio</td>\n",
       "      <td>1107.0</td>\n",
       "      <td>129999.0</td>\n",
       "      <td>2020-04-13</td>\n",
       "      <td>8.0</td>\n",
       "    </tr>\n",
       "  </tbody>\n",
       "</table>\n",
       "</div>"
      ],
      "text/plain": [
       "               region  codigo_region         comuna  codigo_comuna  poblacion  \\\n",
       "0  Arica y Parinacota             15          Arica        15101.0   247552.0   \n",
       "1  Arica y Parinacota             15      Camarones        15102.0     1233.0   \n",
       "2  Arica y Parinacota             15  General Lagos        15202.0      810.0   \n",
       "3  Arica y Parinacota             15          Putre        15201.0     2515.0   \n",
       "4            Tarapaca              1  Alto Hospicio         1107.0   129999.0   \n",
       "\n",
       "       fecha  casos_activos  \n",
       "0 2020-04-13           88.0  \n",
       "1 2020-04-13            0.0  \n",
       "2 2020-04-13            0.0  \n",
       "3 2020-04-13            0.0  \n",
       "4 2020-04-13            8.0  "
      ]
     },
     "execution_count": 4,
     "metadata": {},
     "output_type": "execute_result"
    }
   ],
   "source": [
    "# https://github.com/MinCiencia/Datos-COVID19/tree/master/output/producto19\n",
    "activos = (\n",
    "    pd.read_csv(\"https://raw.githubusercontent.com/MinCiencia/Datos-COVID19/master/output/producto19/CasosActivosPorComuna.csv\")\n",
    "    .rename(columns=lambda x: x.lower().replace(\" \", \"_\"))\n",
    "    .loc[lambda x: x[\"codigo_comuna\"].notnull()]\n",
    "    .melt(id_vars=[\"region\", \"codigo_region\", \"comuna\", \"codigo_comuna\", \"poblacion\"], var_name=\"fecha\", value_name=\"casos_activos\")\n",
    "    .assign(fecha=lambda x: pd.to_datetime(x[\"fecha\"]))\n",
    "    .loc[lambda x: x[\"fecha\"] >= start_date]\n",
    ")\n",
    "\n",
    "activos.head()"
   ]
  },
  {
   "cell_type": "code",
   "execution_count": 5,
   "metadata": {},
   "outputs": [
    {
     "data": {
      "text/html": [
       "<div>\n",
       "<style scoped>\n",
       "    .dataframe tbody tr th:only-of-type {\n",
       "        vertical-align: middle;\n",
       "    }\n",
       "\n",
       "    .dataframe tbody tr th {\n",
       "        vertical-align: top;\n",
       "    }\n",
       "\n",
       "    .dataframe thead th {\n",
       "        text-align: right;\n",
       "    }\n",
       "</style>\n",
       "<table border=\"1\" class=\"dataframe\">\n",
       "  <thead>\n",
       "    <tr style=\"text-align: right;\">\n",
       "      <th></th>\n",
       "      <th>region</th>\n",
       "      <th>fecha</th>\n",
       "      <th>fallecidos</th>\n",
       "    </tr>\n",
       "  </thead>\n",
       "  <tbody>\n",
       "    <tr>\n",
       "      <th>374</th>\n",
       "      <td>Arica y Parinacota</td>\n",
       "      <td>2020-04-13</td>\n",
       "      <td>1.0</td>\n",
       "    </tr>\n",
       "    <tr>\n",
       "      <th>375</th>\n",
       "      <td>Tarapacá</td>\n",
       "      <td>2020-04-13</td>\n",
       "      <td>0.0</td>\n",
       "    </tr>\n",
       "    <tr>\n",
       "      <th>376</th>\n",
       "      <td>Antofagasta</td>\n",
       "      <td>2020-04-13</td>\n",
       "      <td>1.0</td>\n",
       "    </tr>\n",
       "    <tr>\n",
       "      <th>377</th>\n",
       "      <td>Atacama</td>\n",
       "      <td>2020-04-13</td>\n",
       "      <td>0.0</td>\n",
       "    </tr>\n",
       "    <tr>\n",
       "      <th>378</th>\n",
       "      <td>Coquimbo</td>\n",
       "      <td>2020-04-13</td>\n",
       "      <td>0.0</td>\n",
       "    </tr>\n",
       "  </tbody>\n",
       "</table>\n",
       "</div>"
      ],
      "text/plain": [
       "                 region      fecha  fallecidos\n",
       "374  Arica y Parinacota 2020-04-13         1.0\n",
       "375            Tarapacá 2020-04-13         0.0\n",
       "376         Antofagasta 2020-04-13         1.0\n",
       "377             Atacama 2020-04-13         0.0\n",
       "378            Coquimbo 2020-04-13         0.0"
      ]
     },
     "execution_count": 5,
     "metadata": {},
     "output_type": "execute_result"
    }
   ],
   "source": [
    "# https://github.com/MinCiencia/Datos-COVID19/tree/master/output/producto14\n",
    "fallecidos = (\n",
    "    pd.read_csv(\"https://raw.githubusercontent.com/MinCiencia/Datos-COVID19/master/output/producto14/FallecidosCumulativo.csv\")\n",
    "    .rename(columns=lambda x: x.lower().replace(\" \", \"_\"))\n",
    "    .melt(id_vars=[\"region\"], var_name=\"fecha\", value_name=\"fallecidos\")\n",
    "    .assign(\n",
    "        fecha=lambda x: pd.to_datetime(x[\"fecha\"]),\n",
    "    )\n",
    "    .loc[lambda x: x[\"fecha\"] >= start_date]\n",
    ")\n",
    "\n",
    "fallecidos.head()"
   ]
  },
  {
   "cell_type": "code",
   "execution_count": 6,
   "metadata": {},
   "outputs": [
    {
     "data": {
      "text/html": [
       "<div>\n",
       "<style scoped>\n",
       "    .dataframe tbody tr th:only-of-type {\n",
       "        vertical-align: middle;\n",
       "    }\n",
       "\n",
       "    .dataframe tbody tr th {\n",
       "        vertical-align: top;\n",
       "    }\n",
       "\n",
       "    .dataframe thead th {\n",
       "        text-align: right;\n",
       "    }\n",
       "</style>\n",
       "<table border=\"1\" class=\"dataframe\">\n",
       "  <thead>\n",
       "    <tr style=\"text-align: right;\">\n",
       "      <th></th>\n",
       "      <th>grupo_de_edad</th>\n",
       "      <th>fecha</th>\n",
       "      <th>fallecidos</th>\n",
       "    </tr>\n",
       "  </thead>\n",
       "  <tbody>\n",
       "    <tr>\n",
       "      <th>28</th>\n",
       "      <td>0-39</td>\n",
       "      <td>2020-04-13</td>\n",
       "      <td>3</td>\n",
       "    </tr>\n",
       "    <tr>\n",
       "      <th>29</th>\n",
       "      <td>40-49</td>\n",
       "      <td>2020-04-13</td>\n",
       "      <td>2</td>\n",
       "    </tr>\n",
       "    <tr>\n",
       "      <th>30</th>\n",
       "      <td>50-59</td>\n",
       "      <td>2020-04-13</td>\n",
       "      <td>3</td>\n",
       "    </tr>\n",
       "    <tr>\n",
       "      <th>31</th>\n",
       "      <td>60-69</td>\n",
       "      <td>2020-04-13</td>\n",
       "      <td>12</td>\n",
       "    </tr>\n",
       "    <tr>\n",
       "      <th>32</th>\n",
       "      <td>70-79</td>\n",
       "      <td>2020-04-13</td>\n",
       "      <td>29</td>\n",
       "    </tr>\n",
       "  </tbody>\n",
       "</table>\n",
       "</div>"
      ],
      "text/plain": [
       "   grupo_de_edad      fecha  fallecidos\n",
       "28          0-39 2020-04-13           3\n",
       "29         40-49 2020-04-13           2\n",
       "30         50-59 2020-04-13           3\n",
       "31         60-69 2020-04-13          12\n",
       "32         70-79 2020-04-13          29"
      ]
     },
     "execution_count": 6,
     "metadata": {},
     "output_type": "execute_result"
    }
   ],
   "source": [
    "# https://github.com/MinCiencia/Datos-COVID19/tree/master/output/producto10\n",
    "fallecidos_etareo = (\n",
    "    pd.read_csv(\"https://raw.githubusercontent.com/MinCiencia/Datos-COVID19/master/output/producto10/FallecidosEtario.csv\")\n",
    "    .rename(columns=lambda x: x.lower().replace(\" \", \"_\"))\n",
    "    .melt(id_vars=[\"grupo_de_edad\"], var_name=\"fecha\", value_name=\"fallecidos\")\n",
    "    .assign(\n",
    "        fecha=lambda x: pd.to_datetime(x[\"fecha\"]),\n",
    "        grupo_de_edad=lambda x: x[\"grupo_de_edad\"].str.replace(\"<=39\", \"0-39\")\n",
    "    )\n",
    "    .loc[lambda x: x[\"fecha\"] >= start_date]\n",
    ")\n",
    "\n",
    "fallecidos_etareo.head()"
   ]
  },
  {
   "cell_type": "markdown",
   "metadata": {},
   "source": [
    "## Ejercicio 1\n",
    "\n",
    "(10 puntos)\n",
    "\n",
    "Mostrar cantidad de fallecidos la fecha por cada grupo etáreo."
   ]
  },
  {
   "cell_type": "code",
   "execution_count": 7,
   "metadata": {},
   "outputs": [
    {
     "data": {
      "text/html": [
       "\n",
       "<div id=\"altair-viz-404c6ed64cb1460b9f453195216113ea\"></div>\n",
       "<script type=\"text/javascript\">\n",
       "  (function(spec, embedOpt){\n",
       "    let outputDiv = document.currentScript.previousElementSibling;\n",
       "    if (outputDiv.id !== \"altair-viz-404c6ed64cb1460b9f453195216113ea\") {\n",
       "      outputDiv = document.getElementById(\"altair-viz-404c6ed64cb1460b9f453195216113ea\");\n",
       "    }\n",
       "    const paths = {\n",
       "      \"vega\": \"https://cdn.jsdelivr.net/npm//vega@5?noext\",\n",
       "      \"vega-lib\": \"https://cdn.jsdelivr.net/npm//vega-lib?noext\",\n",
       "      \"vega-lite\": \"https://cdn.jsdelivr.net/npm//vega-lite@4.8.1?noext\",\n",
       "      \"vega-embed\": \"https://cdn.jsdelivr.net/npm//vega-embed@6?noext\",\n",
       "    };\n",
       "\n",
       "    function loadScript(lib) {\n",
       "      return new Promise(function(resolve, reject) {\n",
       "        var s = document.createElement('script');\n",
       "        s.src = paths[lib];\n",
       "        s.async = true;\n",
       "        s.onload = () => resolve(paths[lib]);\n",
       "        s.onerror = () => reject(`Error loading script: ${paths[lib]}`);\n",
       "        document.getElementsByTagName(\"head\")[0].appendChild(s);\n",
       "      });\n",
       "    }\n",
       "\n",
       "    function showError(err) {\n",
       "      outputDiv.innerHTML = `<div class=\"error\" style=\"color:red;\">${err}</div>`;\n",
       "      throw err;\n",
       "    }\n",
       "\n",
       "    function displayChart(vegaEmbed) {\n",
       "      vegaEmbed(outputDiv, spec, embedOpt)\n",
       "        .catch(err => showError(`Javascript Error: ${err.message}<br>This usually means there's a typo in your chart specification. See the javascript console for the full traceback.`));\n",
       "    }\n",
       "\n",
       "    if(typeof define === \"function\" && define.amd) {\n",
       "      requirejs.config({paths});\n",
       "      require([\"vega-embed\"], displayChart, err => showError(`Error loading script: ${err.message}`));\n",
       "    } else if (typeof vegaEmbed === \"function\") {\n",
       "      displayChart(vegaEmbed);\n",
       "    } else {\n",
       "      loadScript(\"vega\")\n",
       "        .then(() => loadScript(\"vega-lite\"))\n",
       "        .then(() => loadScript(\"vega-embed\"))\n",
       "        .catch(showError)\n",
       "        .then(() => displayChart(vegaEmbed));\n",
       "    }\n",
       "  })({\"config\": {\"background\": \"white\", \"view\": {\"continuousWidth\": 400, \"continuousHeight\": 300}}, \"data\": {\"url\": \"http://localhost:22805/1095ab8803c7f107926b8196ccfeb092.json\"}, \"mark\": \"bar\", \"encoding\": {\"tooltip\": [{\"type\": \"quantitative\", \"field\": \"fallecidos\", \"title\": \"Cantidad de fallecidos\"}, {\"type\": \"temporal\", \"field\": \"fecha\", \"title\": \"Fecha ultima actualizacion\"}], \"x\": {\"type\": \"nominal\", \"axis\": {\"title\": \"Grupo etario\"}, \"field\": \"grupo_de_edad\"}, \"y\": {\"type\": \"quantitative\", \"axis\": {\"title\": \"Cantidad de fallecidos\"}, \"field\": \"fallecidos\"}}, \"height\": 300, \"title\": \"Fallecidos a la fecha por grupo etareo\", \"width\": 500, \"$schema\": \"https://vega.github.io/schema/vega-lite/v4.8.1.json\"}, {\"mode\": \"vega-lite\"});\n",
       "</script>"
      ],
      "text/plain": [
       "alt.Chart(...)"
      ]
     },
     "execution_count": 7,
     "metadata": {},
     "output_type": "execute_result"
    }
   ],
   "source": [
    "alt.Chart(fallecidos_etareo).mark_bar().encode(\n",
    "    x=alt.X('grupo_de_edad', axis=alt.Axis(title='Grupo etario')),\n",
    "    y=alt.Y('fallecidos', axis=alt.Axis(title='Cantidad de fallecidos')),\n",
    "    tooltip=[alt.Tooltip('fallecidos',title='Cantidad de fallecidos'), alt.Tooltip('fecha',title='Fecha ultima actualizacion')]\n",
    ").properties(\n",
    "    title='Fallecidos a la fecha por grupo etareo',\n",
    "    width=500,\n",
    "    height=300\n",
    "    \n",
    ")"
   ]
  },
  {
   "cell_type": "markdown",
   "metadata": {},
   "source": [
    "**Comentarios:** A la fecha el grupo etareo con mayor cantidad de fallecidos es el que va de 70-79 años, y el que tiene menor cantidad es el grupo que va entre 0-39 años. "
   ]
  },
  {
   "cell_type": "markdown",
   "metadata": {},
   "source": [
    "## Ejercicio 2\n",
    "\n",
    "(10 puntos)\n",
    "\n",
    "¿Qué tan variable es la población de las comunas de Chile? Considera utilizar un gráfico que resuma de buena forma la información sin agregar la variable de región o provincia."
   ]
  },
  {
   "cell_type": "code",
   "execution_count": 8,
   "metadata": {},
   "outputs": [
    {
     "data": {
      "text/html": [
       "\n",
       "<div id=\"altair-viz-26edc4a01aee4667ba591214db4267f6\"></div>\n",
       "<script type=\"text/javascript\">\n",
       "  (function(spec, embedOpt){\n",
       "    let outputDiv = document.currentScript.previousElementSibling;\n",
       "    if (outputDiv.id !== \"altair-viz-26edc4a01aee4667ba591214db4267f6\") {\n",
       "      outputDiv = document.getElementById(\"altair-viz-26edc4a01aee4667ba591214db4267f6\");\n",
       "    }\n",
       "    const paths = {\n",
       "      \"vega\": \"https://cdn.jsdelivr.net/npm//vega@5?noext\",\n",
       "      \"vega-lib\": \"https://cdn.jsdelivr.net/npm//vega-lib?noext\",\n",
       "      \"vega-lite\": \"https://cdn.jsdelivr.net/npm//vega-lite@4.8.1?noext\",\n",
       "      \"vega-embed\": \"https://cdn.jsdelivr.net/npm//vega-embed@6?noext\",\n",
       "    };\n",
       "\n",
       "    function loadScript(lib) {\n",
       "      return new Promise(function(resolve, reject) {\n",
       "        var s = document.createElement('script');\n",
       "        s.src = paths[lib];\n",
       "        s.async = true;\n",
       "        s.onload = () => resolve(paths[lib]);\n",
       "        s.onerror = () => reject(`Error loading script: ${paths[lib]}`);\n",
       "        document.getElementsByTagName(\"head\")[0].appendChild(s);\n",
       "      });\n",
       "    }\n",
       "\n",
       "    function showError(err) {\n",
       "      outputDiv.innerHTML = `<div class=\"error\" style=\"color:red;\">${err}</div>`;\n",
       "      throw err;\n",
       "    }\n",
       "\n",
       "    function displayChart(vegaEmbed) {\n",
       "      vegaEmbed(outputDiv, spec, embedOpt)\n",
       "        .catch(err => showError(`Javascript Error: ${err.message}<br>This usually means there's a typo in your chart specification. See the javascript console for the full traceback.`));\n",
       "    }\n",
       "\n",
       "    if(typeof define === \"function\" && define.amd) {\n",
       "      requirejs.config({paths});\n",
       "      require([\"vega-embed\"], displayChart, err => showError(`Error loading script: ${err.message}`));\n",
       "    } else if (typeof vegaEmbed === \"function\") {\n",
       "      displayChart(vegaEmbed);\n",
       "    } else {\n",
       "      loadScript(\"vega\")\n",
       "        .then(() => loadScript(\"vega-lite\"))\n",
       "        .then(() => loadScript(\"vega-embed\"))\n",
       "        .catch(showError)\n",
       "        .then(() => displayChart(vegaEmbed));\n",
       "    }\n",
       "  })({\"config\": {\"background\": \"white\", \"view\": {\"continuousWidth\": 400, \"continuousHeight\": 300}}, \"data\": {\"url\": \"http://localhost:22805/95afd26f355c39968608775578f03425.json\"}, \"mark\": \"area\", \"encoding\": {\"x\": {\"type\": \"quantitative\", \"axis\": {\"title\": \"Poblacion\"}, \"field\": \"poblacion\"}, \"y\": {\"type\": \"quantitative\", \"axis\": {\"title\": \"Densidad\"}, \"field\": \"density\"}}, \"height\": 500, \"title\": \"Distribucion de la poblacion por comuna\", \"transform\": [{\"density\": \"poblacion\", \"as\": [\"poblacion\", \"density\"]}], \"width\": 1000, \"$schema\": \"https://vega.github.io/schema/vega-lite/v4.8.1.json\"}, {\"mode\": \"vega-lite\"});\n",
       "</script>"
      ],
      "text/plain": [
       "alt.Chart(...)"
      ]
     },
     "execution_count": 8,
     "metadata": {},
     "output_type": "execute_result"
    }
   ],
   "source": [
    "alt.Chart(activos).transform_density(\n",
    "    'poblacion',\n",
    "    as_=['poblacion', 'density'],\n",
    ").mark_area().encode(\n",
    "    x=alt.X('poblacion', axis=alt.Axis(title='Poblacion')),\n",
    "    y=alt.X('density:Q', axis=alt.Axis(title='Densidad')),\n",
    ").properties(\n",
    "    title='Distribucion de la poblacion por comuna',\n",
    "    width= 1000,\n",
    "    height= 500\n",
    ")"
   ]
  },
  {
   "cell_type": "code",
   "execution_count": 9,
   "metadata": {},
   "outputs": [
    {
     "name": "stdout",
     "output_type": "stream",
     "text": [
      "El promedio de la poblacion es 56237.89017341041 , y la desviacion estandar es 88819.28419046862\n"
     ]
    }
   ],
   "source": [
    "promedio_poblacion=activos['poblacion'].mean()\n",
    "desv_s_poblacion=activos['poblacion'].std()\n",
    "print('El promedio de la poblacion es', promedio_poblacion, ', y la desviacion estandar es' ,desv_s_poblacion)"
   ]
  },
  {
   "cell_type": "markdown",
   "metadata": {},
   "source": [
    "**Comentarios:** En el gráfico podemos ver la densidad, donde el area bajo la curva se interpreta como la cantidad de comunas con la determinada cantidad de población, por lo que podemos deducir que es más común encontrarse comunas con población desde 0 a 80000 habitantes, y a medida que vamos aumentando la población, disminuye la cantidad de comunas que cumplen esa cuota. En particular tenemos que el promedio de la poblacion ronda los 56237 por comuna, y la desviacion estandar es de 88819 aproximadamente, por lo que los datos varian mucho como se puede apreciar graficamente."
   ]
  },
  {
   "cell_type": "markdown",
   "metadata": {},
   "source": [
    "## Ejercicio 3\n",
    "\n",
    "(10 puntos)\n",
    "\n",
    "Mostrar evolución y comparación de los fallecimientos entre distintos grupos etáreos, pero que al mismo tiempo sea fácil identificar la cantidad de fallecidos total en cada fecha."
   ]
  },
  {
   "cell_type": "code",
   "execution_count": 10,
   "metadata": {},
   "outputs": [
    {
     "data": {
      "text/html": [
       "\n",
       "<div id=\"altair-viz-8d194dfe4e6747088dcbacfe64ef6841\"></div>\n",
       "<script type=\"text/javascript\">\n",
       "  (function(spec, embedOpt){\n",
       "    let outputDiv = document.currentScript.previousElementSibling;\n",
       "    if (outputDiv.id !== \"altair-viz-8d194dfe4e6747088dcbacfe64ef6841\") {\n",
       "      outputDiv = document.getElementById(\"altair-viz-8d194dfe4e6747088dcbacfe64ef6841\");\n",
       "    }\n",
       "    const paths = {\n",
       "      \"vega\": \"https://cdn.jsdelivr.net/npm//vega@5?noext\",\n",
       "      \"vega-lib\": \"https://cdn.jsdelivr.net/npm//vega-lib?noext\",\n",
       "      \"vega-lite\": \"https://cdn.jsdelivr.net/npm//vega-lite@4.8.1?noext\",\n",
       "      \"vega-embed\": \"https://cdn.jsdelivr.net/npm//vega-embed@6?noext\",\n",
       "    };\n",
       "\n",
       "    function loadScript(lib) {\n",
       "      return new Promise(function(resolve, reject) {\n",
       "        var s = document.createElement('script');\n",
       "        s.src = paths[lib];\n",
       "        s.async = true;\n",
       "        s.onload = () => resolve(paths[lib]);\n",
       "        s.onerror = () => reject(`Error loading script: ${paths[lib]}`);\n",
       "        document.getElementsByTagName(\"head\")[0].appendChild(s);\n",
       "      });\n",
       "    }\n",
       "\n",
       "    function showError(err) {\n",
       "      outputDiv.innerHTML = `<div class=\"error\" style=\"color:red;\">${err}</div>`;\n",
       "      throw err;\n",
       "    }\n",
       "\n",
       "    function displayChart(vegaEmbed) {\n",
       "      vegaEmbed(outputDiv, spec, embedOpt)\n",
       "        .catch(err => showError(`Javascript Error: ${err.message}<br>This usually means there's a typo in your chart specification. See the javascript console for the full traceback.`));\n",
       "    }\n",
       "\n",
       "    if(typeof define === \"function\" && define.amd) {\n",
       "      requirejs.config({paths});\n",
       "      require([\"vega-embed\"], displayChart, err => showError(`Error loading script: ${err.message}`));\n",
       "    } else if (typeof vegaEmbed === \"function\") {\n",
       "      displayChart(vegaEmbed);\n",
       "    } else {\n",
       "      loadScript(\"vega\")\n",
       "        .then(() => loadScript(\"vega-lite\"))\n",
       "        .then(() => loadScript(\"vega-embed\"))\n",
       "        .catch(showError)\n",
       "        .then(() => displayChart(vegaEmbed));\n",
       "    }\n",
       "  })({\"config\": {\"background\": \"white\", \"view\": {\"continuousWidth\": 400, \"continuousHeight\": 300}}, \"data\": {\"url\": \"http://localhost:22805/1095ab8803c7f107926b8196ccfeb092.json\"}, \"mark\": {\"type\": \"line\", \"size\": 4}, \"encoding\": {\"color\": {\"type\": \"nominal\", \"field\": \"grupo_de_edad\", \"title\": \"Grupo etario:\"}, \"tooltip\": [{\"type\": \"quantitative\", \"field\": \"fallecidos\", \"title\": \"Cantidad de fallecidos\"}, {\"type\": \"temporal\", \"field\": \"fecha\", \"title\": \"Fecha actual\"}, {\"type\": \"nominal\", \"field\": \"grupo_de_edad\", \"title\": \"Grupo etario\"}], \"x\": {\"type\": \"temporal\", \"axis\": {\"title\": \"Mes\"}, \"field\": \"fecha\"}, \"y\": {\"type\": \"quantitative\", \"axis\": {\"title\": \"Fallecidos\"}, \"field\": \"fallecidos\"}}, \"height\": 400, \"title\": \"Evolucion temporal de la cantidad de fallecidos por grupo etario\", \"width\": 500, \"$schema\": \"https://vega.github.io/schema/vega-lite/v4.8.1.json\"}, {\"mode\": \"vega-lite\"});\n",
       "</script>"
      ],
      "text/plain": [
       "alt.Chart(...)"
      ]
     },
     "execution_count": 10,
     "metadata": {},
     "output_type": "execute_result"
    }
   ],
   "source": [
    "alt.Chart(fallecidos_etareo).mark_line(size=4).encode(\n",
    "    x=alt.X('fecha', axis=alt.Axis(title='Mes')),\n",
    "    y=alt.Y('fallecidos', axis=alt.Axis(title='Fallecidos')),\n",
    "    color=alt.Color('grupo_de_edad', title='Grupo etario:'),\n",
    "    # Que poner el mouse encima de la curva muestre la cantidad de fallecidos a la fecha, fecha del instante y grupo etario\n",
    "    tooltip=[alt.Tooltip('fallecidos',title='Cantidad de fallecidos'), alt.Tooltip('fecha', title='Fecha actual'),\n",
    "            alt.Tooltip('grupo_de_edad', title='Grupo etario')]\n",
    ").properties(\n",
    "    title='Evolucion temporal de la cantidad de fallecidos por grupo etario',\n",
    "    width=500,\n",
    "    height=400\n",
    ")"
   ]
  },
  {
   "cell_type": "markdown",
   "metadata": {},
   "source": [
    "**Comentarios:** Desprendemos que el grupo de 70-79 y el de 0-39 son los que tienen mayor y menor cantidad de fallecidos respectivamente. Ademas podemos observar un aumento pronunciado en el crecimiento de las curvas en todos los rangos etarios entre Junio y la mitad de Julio, finalizando con un peak que se puede apreciar graficamente como una linea casi vertical. Despues de este periodo, si podemos ver que el crecimiento para los grupos 60-69, 70-79 y 80-89 es mayor con respecto al resto de rangos etarios."
   ]
  },
  {
   "cell_type": "markdown",
   "metadata": {},
   "source": [
    "## Ejercicio 4\n",
    "\n",
    "(10 puntos)\n",
    "\n",
    "Mostrar en tres gráficos la evolución de casos confirmados, evolución de fallecimientos y evolución de casos activos."
   ]
  },
  {
   "cell_type": "code",
   "execution_count": 11,
   "metadata": {},
   "outputs": [
    {
     "data": {
      "text/html": [
       "\n",
       "<div id=\"altair-viz-b488ca3215414bed9c1f4bdcbe6db25b\"></div>\n",
       "<script type=\"text/javascript\">\n",
       "  (function(spec, embedOpt){\n",
       "    let outputDiv = document.currentScript.previousElementSibling;\n",
       "    if (outputDiv.id !== \"altair-viz-b488ca3215414bed9c1f4bdcbe6db25b\") {\n",
       "      outputDiv = document.getElementById(\"altair-viz-b488ca3215414bed9c1f4bdcbe6db25b\");\n",
       "    }\n",
       "    const paths = {\n",
       "      \"vega\": \"https://cdn.jsdelivr.net/npm//vega@5?noext\",\n",
       "      \"vega-lib\": \"https://cdn.jsdelivr.net/npm//vega-lib?noext\",\n",
       "      \"vega-lite\": \"https://cdn.jsdelivr.net/npm//vega-lite@4.8.1?noext\",\n",
       "      \"vega-embed\": \"https://cdn.jsdelivr.net/npm//vega-embed@6?noext\",\n",
       "    };\n",
       "\n",
       "    function loadScript(lib) {\n",
       "      return new Promise(function(resolve, reject) {\n",
       "        var s = document.createElement('script');\n",
       "        s.src = paths[lib];\n",
       "        s.async = true;\n",
       "        s.onload = () => resolve(paths[lib]);\n",
       "        s.onerror = () => reject(`Error loading script: ${paths[lib]}`);\n",
       "        document.getElementsByTagName(\"head\")[0].appendChild(s);\n",
       "      });\n",
       "    }\n",
       "\n",
       "    function showError(err) {\n",
       "      outputDiv.innerHTML = `<div class=\"error\" style=\"color:red;\">${err}</div>`;\n",
       "      throw err;\n",
       "    }\n",
       "\n",
       "    function displayChart(vegaEmbed) {\n",
       "      vegaEmbed(outputDiv, spec, embedOpt)\n",
       "        .catch(err => showError(`Javascript Error: ${err.message}<br>This usually means there's a typo in your chart specification. See the javascript console for the full traceback.`));\n",
       "    }\n",
       "\n",
       "    if(typeof define === \"function\" && define.amd) {\n",
       "      requirejs.config({paths});\n",
       "      require([\"vega-embed\"], displayChart, err => showError(`Error loading script: ${err.message}`));\n",
       "    } else if (typeof vegaEmbed === \"function\") {\n",
       "      displayChart(vegaEmbed);\n",
       "    } else {\n",
       "      loadScript(\"vega\")\n",
       "        .then(() => loadScript(\"vega-lite\"))\n",
       "        .then(() => loadScript(\"vega-embed\"))\n",
       "        .catch(showError)\n",
       "        .then(() => displayChart(vegaEmbed));\n",
       "    }\n",
       "  })({\"config\": {\"background\": \"white\", \"view\": {\"continuousWidth\": 400, \"continuousHeight\": 300}}, \"hconcat\": [{\"data\": {\"url\": \"http://localhost:22805/723ed176a01533eca652840f9ff1d5d4.json\"}, \"mark\": {\"type\": \"line\", \"size\": 3}, \"encoding\": {\"tooltip\": [{\"type\": \"quantitative\", \"aggregate\": \"sum\", \"field\": \"casos_confirmados\", \"title\": \"Cantidad de casos confirmados\"}, {\"type\": \"temporal\", \"field\": \"fecha\", \"title\": \"Fecha actual\"}], \"x\": {\"type\": \"temporal\", \"axis\": {\"title\": \"Mes\"}, \"field\": \"fecha\"}, \"y\": {\"type\": \"quantitative\", \"aggregate\": \"sum\", \"axis\": {\"title\": \"Casos confirmados\"}, \"field\": \"casos_confirmados\"}}, \"height\": 300, \"title\": \"Evolucion temporal de casos confirmados\", \"width\": 350}, {\"data\": {\"url\": \"http://localhost:22805/73fb28654bc8c53cd810e515816fba87.json\"}, \"mark\": {\"type\": \"line\", \"size\": 3}, \"encoding\": {\"tooltip\": [{\"type\": \"quantitative\", \"aggregate\": \"sum\", \"field\": \"fallecidos\", \"title\": \"Cantidad de casos confirmados\"}, {\"type\": \"temporal\", \"field\": \"fecha\", \"title\": \"Fecha actual\"}], \"x\": {\"type\": \"temporal\", \"axis\": {\"title\": \"Mes\"}, \"field\": \"fecha\"}, \"y\": {\"type\": \"quantitative\", \"aggregate\": \"sum\", \"axis\": {\"title\": \"Fallecimientos\"}, \"field\": \"fallecidos\"}}, \"height\": 300, \"title\": \"Evolucion de fallecidos\", \"width\": 350}, {\"data\": {\"url\": \"http://localhost:22805/95afd26f355c39968608775578f03425.json\"}, \"mark\": {\"type\": \"line\", \"size\": 3}, \"encoding\": {\"tooltip\": [{\"type\": \"quantitative\", \"aggregate\": \"sum\", \"field\": \"casos_activos\", \"title\": \"Cantidad de casos confirmados\"}, {\"type\": \"temporal\", \"field\": \"fecha\", \"title\": \"Fecha actual\"}], \"x\": {\"type\": \"temporal\", \"axis\": {\"title\": \"Mes\"}, \"field\": \"fecha\"}, \"y\": {\"type\": \"quantitative\", \"aggregate\": \"sum\", \"axis\": {\"title\": \"Casos activos\"}, \"field\": \"casos_activos\"}}, \"height\": 300, \"title\": \"Evolucion de casos activos\", \"width\": 350}], \"$schema\": \"https://vega.github.io/schema/vega-lite/v4.8.1.json\"}, {\"mode\": \"vega-lite\"});\n",
       "</script>"
      ],
      "text/plain": [
       "alt.HConcatChart(...)"
      ]
     },
     "execution_count": 11,
     "metadata": {},
     "output_type": "execute_result"
    }
   ],
   "source": [
    "casos_confirmados = alt.Chart(confirmados).mark_line(size=3).encode(\n",
    "    x=alt.X('fecha', axis=alt.Axis(title='Mes')),\n",
    "    y=alt.Y('sum(casos_confirmados)', axis=alt.Axis(title='Casos confirmados')),\n",
    "    tooltip=[alt.Tooltip('sum(casos_confirmados)',title='Cantidad de casos confirmados'), alt.Tooltip('fecha', title='Fecha actual')]\n",
    ").properties(\n",
    "    title='Evolucion temporal de casos confirmados',\n",
    "    width=350,\n",
    "    height=300\n",
    ")\n",
    "\n",
    "fallecimientos = alt.Chart(fallecidos).mark_line(size=3).encode(\n",
    "    x=alt.X('fecha', axis=alt.Axis(title='Mes')),\n",
    "    y=alt.Y('sum(fallecidos)', axis=alt.Axis(title='Fallecimientos')),\n",
    "    tooltip=[alt.Tooltip('sum(fallecidos)',title='Cantidad de casos confirmados'), alt.Tooltip('fecha', title='Fecha actual')]\n",
    ").properties(title='Evolucion de fallecidos', width=350, height=300)\n",
    "\n",
    "\n",
    "casos_activos = alt.Chart(activos).mark_line(size=3).encode(\n",
    "    x=alt.X('fecha:T', axis=alt.Axis(title='Mes')),\n",
    "    y=alt.Y('sum(casos_activos)', axis=alt.Axis(title='Casos activos')),\n",
    "    tooltip=[alt.Tooltip('sum(casos_activos)',title='Cantidad de casos confirmados'), alt.Tooltip('fecha', title='Fecha actual')]\n",
    ").properties(title='Evolucion de casos activos', width=350, height=300)\n",
    "\n",
    "\n",
    "casos_confirmados | fallecimientos | casos_activos"
   ]
  },
  {
   "cell_type": "markdown",
   "metadata": {},
   "source": [
    "**Comentarios:** Del primer grafico podemos notar que la pendiente siempre va a ser positiva porque estamos considerando la cantidad total de casos confirmados, es importante notar que en mayo comienza el aumento significativo de casos con el peak a mediados de junio, en los otros graficos podemos ver que a partir de junio aumento mucho la cantidad de fallecidos y que la cantidad de casos activos tambien sube mucho. Luego de ese periodo, para el grafico de casos activos vemos que la curva se relaja y la cantidad de casos confirmados y fallecidos tambien disminuye su pendiente, que a fin de cuentas nos dice sobre el ritmo al que aumentan los casos confirmados/fallecidos."
   ]
  },
  {
   "cell_type": "markdown",
   "metadata": {},
   "source": [
    "## Ejercicio 5\n",
    "\n",
    "(10 puntos)\n",
    "\n",
    "Comparar la tasa de incidencia entre las regiones a lo largo del tiempo."
   ]
  },
  {
   "cell_type": "code",
   "execution_count": 57,
   "metadata": {},
   "outputs": [
    {
     "data": {
      "text/html": [
       "\n",
       "<div id=\"altair-viz-7af3c68f2ad1437ebb767cb3c9b2b2d8\"></div>\n",
       "<script type=\"text/javascript\">\n",
       "  (function(spec, embedOpt){\n",
       "    let outputDiv = document.currentScript.previousElementSibling;\n",
       "    if (outputDiv.id !== \"altair-viz-7af3c68f2ad1437ebb767cb3c9b2b2d8\") {\n",
       "      outputDiv = document.getElementById(\"altair-viz-7af3c68f2ad1437ebb767cb3c9b2b2d8\");\n",
       "    }\n",
       "    const paths = {\n",
       "      \"vega\": \"https://cdn.jsdelivr.net/npm//vega@5?noext\",\n",
       "      \"vega-lib\": \"https://cdn.jsdelivr.net/npm//vega-lib?noext\",\n",
       "      \"vega-lite\": \"https://cdn.jsdelivr.net/npm//vega-lite@4.8.1?noext\",\n",
       "      \"vega-embed\": \"https://cdn.jsdelivr.net/npm//vega-embed@6?noext\",\n",
       "    };\n",
       "\n",
       "    function loadScript(lib) {\n",
       "      return new Promise(function(resolve, reject) {\n",
       "        var s = document.createElement('script');\n",
       "        s.src = paths[lib];\n",
       "        s.async = true;\n",
       "        s.onload = () => resolve(paths[lib]);\n",
       "        s.onerror = () => reject(`Error loading script: ${paths[lib]}`);\n",
       "        document.getElementsByTagName(\"head\")[0].appendChild(s);\n",
       "      });\n",
       "    }\n",
       "\n",
       "    function showError(err) {\n",
       "      outputDiv.innerHTML = `<div class=\"error\" style=\"color:red;\">${err}</div>`;\n",
       "      throw err;\n",
       "    }\n",
       "\n",
       "    function displayChart(vegaEmbed) {\n",
       "      vegaEmbed(outputDiv, spec, embedOpt)\n",
       "        .catch(err => showError(`Javascript Error: ${err.message}<br>This usually means there's a typo in your chart specification. See the javascript console for the full traceback.`));\n",
       "    }\n",
       "\n",
       "    if(typeof define === \"function\" && define.amd) {\n",
       "      requirejs.config({paths});\n",
       "      require([\"vega-embed\"], displayChart, err => showError(`Error loading script: ${err.message}`));\n",
       "    } else if (typeof vegaEmbed === \"function\") {\n",
       "      displayChart(vegaEmbed);\n",
       "    } else {\n",
       "      loadScript(\"vega\")\n",
       "        .then(() => loadScript(\"vega-lite\"))\n",
       "        .then(() => loadScript(\"vega-embed\"))\n",
       "        .catch(showError)\n",
       "        .then(() => displayChart(vegaEmbed));\n",
       "    }\n",
       "  })({\"config\": {\"background\": \"white\", \"view\": {\"continuousWidth\": 400, \"continuousHeight\": 300}}, \"data\": {\"url\": \"http://localhost:22805/723ed176a01533eca652840f9ff1d5d4.json\"}, \"mark\": {\"type\": \"line\", \"size\": 3}, \"encoding\": {\"color\": {\"type\": \"nominal\", \"field\": \"region\", \"title\": \"Region:\"}, \"tooltip\": {\"type\": \"nominal\", \"field\": \"region\", \"title\": \"Region\"}, \"x\": {\"type\": \"temporal\", \"field\": \"fecha\", \"title\": \"Mes\"}, \"y\": {\"type\": \"quantitative\", \"aggregate\": \"mean\", \"field\": \"tasa\", \"title\": \"Tasa\"}}, \"height\": 400, \"title\": \"Evolucion de la tasa de incidencia por region\", \"width\": 500, \"$schema\": \"https://vega.github.io/schema/vega-lite/v4.8.1.json\"}, {\"mode\": \"vega-lite\"});\n",
       "</script>"
      ],
      "text/plain": [
       "alt.Chart(...)"
      ]
     },
     "execution_count": 57,
     "metadata": {},
     "output_type": "execute_result"
    }
   ],
   "source": [
    "line = alt.Chart(confirmados).mark_line(size=3).encode(\n",
    "    x=alt.X('fecha:T', title='Mes'),\n",
    "    y=alt.Y('mean(tasa):Q', title='Tasa'),\n",
    "    color=alt.Color('region', title='Region:'),\n",
    "    tooltip=alt.Tooltip('region',title='Region')\n",
    ").properties(\n",
    "    title='Evolucion de la tasa de incidencia por region',\n",
    "    width=500,\n",
    "    height=400\n",
    "\n",
    "\n",
    ")\n",
    "\n",
    "line"
   ]
  },
  {
   "cell_type": "markdown",
   "metadata": {},
   "source": [
    "**Comentarios:** Podemos ver (poniendo el mouse encima de las curvas) que la region con mayor tasa de incidencia es Tarapacá, además identificamos un piño de regiones que no tuvieron una subida tan pronunciada como las regiones que se ven más arriba, en particular \"Arica y Parinacota\" y \"Magallanes y de la antártida Chilena\" tuvieron peaks mas retardados, en Agosto y Octubre respectivamente."
   ]
  },
  {
   "cell_type": "markdown",
   "metadata": {},
   "source": [
    "## Ejercicio 6\n",
    "\n",
    "(10 puntos)\n",
    "\n",
    "¿Hay alguna conclusión que puedas obtener rápidamente al graficar un _scatter plot_ con los casos confirmados y tasa de incidencia de cada comuna para los días 13 de abril y 6 de noviembre del 2020? Además, colorea cada punto según la región a la que pertenece y considera si es útil en el gráfico que el tamaño sea proporcional a la población."
   ]
  },
  {
   "cell_type": "code",
   "execution_count": 73,
   "metadata": {},
   "outputs": [
    {
     "data": {
      "text/html": [
       "\n",
       "<div id=\"altair-viz-ce00075a1911421b9b330190397b71cd\"></div>\n",
       "<script type=\"text/javascript\">\n",
       "  (function(spec, embedOpt){\n",
       "    let outputDiv = document.currentScript.previousElementSibling;\n",
       "    if (outputDiv.id !== \"altair-viz-ce00075a1911421b9b330190397b71cd\") {\n",
       "      outputDiv = document.getElementById(\"altair-viz-ce00075a1911421b9b330190397b71cd\");\n",
       "    }\n",
       "    const paths = {\n",
       "      \"vega\": \"https://cdn.jsdelivr.net/npm//vega@5?noext\",\n",
       "      \"vega-lib\": \"https://cdn.jsdelivr.net/npm//vega-lib?noext\",\n",
       "      \"vega-lite\": \"https://cdn.jsdelivr.net/npm//vega-lite@4.8.1?noext\",\n",
       "      \"vega-embed\": \"https://cdn.jsdelivr.net/npm//vega-embed@6?noext\",\n",
       "    };\n",
       "\n",
       "    function loadScript(lib) {\n",
       "      return new Promise(function(resolve, reject) {\n",
       "        var s = document.createElement('script');\n",
       "        s.src = paths[lib];\n",
       "        s.async = true;\n",
       "        s.onload = () => resolve(paths[lib]);\n",
       "        s.onerror = () => reject(`Error loading script: ${paths[lib]}`);\n",
       "        document.getElementsByTagName(\"head\")[0].appendChild(s);\n",
       "      });\n",
       "    }\n",
       "\n",
       "    function showError(err) {\n",
       "      outputDiv.innerHTML = `<div class=\"error\" style=\"color:red;\">${err}</div>`;\n",
       "      throw err;\n",
       "    }\n",
       "\n",
       "    function displayChart(vegaEmbed) {\n",
       "      vegaEmbed(outputDiv, spec, embedOpt)\n",
       "        .catch(err => showError(`Javascript Error: ${err.message}<br>This usually means there's a typo in your chart specification. See the javascript console for the full traceback.`));\n",
       "    }\n",
       "\n",
       "    if(typeof define === \"function\" && define.amd) {\n",
       "      requirejs.config({paths});\n",
       "      require([\"vega-embed\"], displayChart, err => showError(`Error loading script: ${err.message}`));\n",
       "    } else if (typeof vegaEmbed === \"function\") {\n",
       "      displayChart(vegaEmbed);\n",
       "    } else {\n",
       "      loadScript(\"vega\")\n",
       "        .then(() => loadScript(\"vega-lite\"))\n",
       "        .then(() => loadScript(\"vega-embed\"))\n",
       "        .catch(showError)\n",
       "        .then(() => displayChart(vegaEmbed));\n",
       "    }\n",
       "  })({\"config\": {\"background\": \"white\", \"view\": {\"continuousWidth\": 400, \"continuousHeight\": 300}}, \"hconcat\": [{\"data\": {\"url\": \"http://localhost:22805/2af413bdf4b873d80d267ed11bb5aa5b.json\"}, \"mark\": \"point\", \"encoding\": {\"color\": {\"type\": \"nominal\", \"field\": \"region\", \"title\": \"Region:\"}, \"size\": {\"type\": \"quantitative\", \"field\": \"poblacion\", \"title\": \"Poblacion:\"}, \"tooltip\": {\"type\": \"nominal\", \"field\": \"comuna\", \"title\": \"Comuna\"}, \"x\": {\"type\": \"quantitative\", \"field\": \"casos_confirmados\", \"title\": \"Casos confirmados\"}, \"y\": {\"type\": \"quantitative\", \"aggregate\": \"mean\", \"field\": \"tasa\", \"title\": \"Tasa\"}}, \"height\": 500, \"title\": \"13 de Abril del 2020\", \"width\": 500}, {\"data\": {\"url\": \"http://localhost:22805/9a74e69c81222438b932af0db2c70575.json\"}, \"mark\": \"point\", \"encoding\": {\"color\": {\"type\": \"nominal\", \"field\": \"region\", \"title\": \"Region:\"}, \"tooltip\": {\"type\": \"nominal\", \"field\": \"comuna\", \"title\": \"Comuna\"}, \"x\": {\"type\": \"quantitative\", \"field\": \"casos_confirmados\", \"title\": \"Casos confirmados\"}, \"y\": {\"type\": \"quantitative\", \"aggregate\": \"mean\", \"field\": \"tasa\", \"title\": \"Tasa\"}}, \"height\": 500, \"title\": \"6 de Noviembre del 2020\", \"width\": 500}], \"$schema\": \"https://vega.github.io/schema/vega-lite/v4.8.1.json\"}, {\"mode\": \"vega-lite\"});\n",
       "</script>"
      ],
      "text/plain": [
       "alt.HConcatChart(...)"
      ]
     },
     "execution_count": 73,
     "metadata": {},
     "output_type": "execute_result"
    }
   ],
   "source": [
    "abril = alt.Chart(confirmados.loc[lambda x: confirmados['fecha']==start_date ]).mark_point().encode(\n",
    "    x=alt.X('casos_confirmados', title='Casos confirmados'),\n",
    "    y=alt.Y('mean(tasa)', title= 'Tasa'),\n",
    "    color=alt.Color('region', title='Region:'),\n",
    "    tooltip=alt.Tooltip('comuna',title='Comuna'),\n",
    "    #size=alt.Size('poblacion', title='Poblacion:')\n",
    ").properties(title='13 de Abril del 2020', width=500, height=500)\n",
    "\n",
    "\n",
    "noviembre = alt.Chart(confirmados.loc[lambda x: confirmados['fecha']==end_date ]).mark_point().encode(\n",
    "    x=alt.X('casos_confirmados', title='Casos confirmados'),\n",
    "    y=alt.Y('mean(tasa)', title= 'Tasa'),\n",
    "    color=alt.Color('region', title='Region:'),\n",
    "    tooltip=alt.Tooltip('comuna',title='Comuna'),\n",
    "    #size=alt.Size('poblacion', title='Poblacion')\n",
    ").properties(title='6 de Noviembre del 2020', width=500, height=500)\n",
    "\n",
    "abril | noviembre"
   ]
  },
  {
   "cell_type": "markdown",
   "metadata": {},
   "source": [
    "**Comentarios:** La conclusión que puedo sacar es que la tendencia es que las tasas por regiones apunta al crecimiento, si ponemos el mouse encima de los puntos mas alejados verticalmente de las aglomeraciones, nos damos cuenta que suelen ser comunas con poca cantidad de habitantes y esto se debe a la definicion de la tasa, pues 1000 casos confirmados valen (en terminos de tasa) mas para una poblacion de 5000 personas que para uno de 20000. Por otro lado, los puntos que se alejan horizontalmente de las aglomeraciones son comunas con alta cantidad de poblacion, y por lo tanto a pesar de que tienen una buena cantidad de casos confirmados, no termina siendo tan significativo en terminos de la tasa. Es por este analisis que sí considero útil que el tamaño de los círculos sea proporcional a la población de la región, grafico que puede verse abajito:"
   ]
  },
  {
   "cell_type": "code",
   "execution_count": 74,
   "metadata": {
    "jupyter": {
     "source_hidden": true
    }
   },
   "outputs": [
    {
     "data": {
      "text/html": [
       "\n",
       "<div id=\"altair-viz-b758c4069c0941f9bf7e2b2cc55b3e37\"></div>\n",
       "<script type=\"text/javascript\">\n",
       "  (function(spec, embedOpt){\n",
       "    let outputDiv = document.currentScript.previousElementSibling;\n",
       "    if (outputDiv.id !== \"altair-viz-b758c4069c0941f9bf7e2b2cc55b3e37\") {\n",
       "      outputDiv = document.getElementById(\"altair-viz-b758c4069c0941f9bf7e2b2cc55b3e37\");\n",
       "    }\n",
       "    const paths = {\n",
       "      \"vega\": \"https://cdn.jsdelivr.net/npm//vega@5?noext\",\n",
       "      \"vega-lib\": \"https://cdn.jsdelivr.net/npm//vega-lib?noext\",\n",
       "      \"vega-lite\": \"https://cdn.jsdelivr.net/npm//vega-lite@4.8.1?noext\",\n",
       "      \"vega-embed\": \"https://cdn.jsdelivr.net/npm//vega-embed@6?noext\",\n",
       "    };\n",
       "\n",
       "    function loadScript(lib) {\n",
       "      return new Promise(function(resolve, reject) {\n",
       "        var s = document.createElement('script');\n",
       "        s.src = paths[lib];\n",
       "        s.async = true;\n",
       "        s.onload = () => resolve(paths[lib]);\n",
       "        s.onerror = () => reject(`Error loading script: ${paths[lib]}`);\n",
       "        document.getElementsByTagName(\"head\")[0].appendChild(s);\n",
       "      });\n",
       "    }\n",
       "\n",
       "    function showError(err) {\n",
       "      outputDiv.innerHTML = `<div class=\"error\" style=\"color:red;\">${err}</div>`;\n",
       "      throw err;\n",
       "    }\n",
       "\n",
       "    function displayChart(vegaEmbed) {\n",
       "      vegaEmbed(outputDiv, spec, embedOpt)\n",
       "        .catch(err => showError(`Javascript Error: ${err.message}<br>This usually means there's a typo in your chart specification. See the javascript console for the full traceback.`));\n",
       "    }\n",
       "\n",
       "    if(typeof define === \"function\" && define.amd) {\n",
       "      requirejs.config({paths});\n",
       "      require([\"vega-embed\"], displayChart, err => showError(`Error loading script: ${err.message}`));\n",
       "    } else if (typeof vegaEmbed === \"function\") {\n",
       "      displayChart(vegaEmbed);\n",
       "    } else {\n",
       "      loadScript(\"vega\")\n",
       "        .then(() => loadScript(\"vega-lite\"))\n",
       "        .then(() => loadScript(\"vega-embed\"))\n",
       "        .catch(showError)\n",
       "        .then(() => displayChart(vegaEmbed));\n",
       "    }\n",
       "  })({\"config\": {\"background\": \"white\", \"view\": {\"continuousWidth\": 400, \"continuousHeight\": 300}}, \"hconcat\": [{\"data\": {\"url\": \"http://localhost:22805/2af413bdf4b873d80d267ed11bb5aa5b.json\"}, \"mark\": \"point\", \"encoding\": {\"color\": {\"type\": \"nominal\", \"field\": \"region\", \"title\": \"Region:\"}, \"size\": {\"type\": \"quantitative\", \"field\": \"poblacion\", \"title\": \"Poblacion:\"}, \"tooltip\": {\"type\": \"nominal\", \"field\": \"comuna\", \"title\": \"Comuna\"}, \"x\": {\"type\": \"quantitative\", \"field\": \"casos_confirmados\", \"title\": \"Casos confirmados\"}, \"y\": {\"type\": \"quantitative\", \"aggregate\": \"mean\", \"field\": \"tasa\", \"title\": \"Tasa\"}}, \"height\": 500, \"title\": \"13 de Abril del 2020\", \"width\": 500}, {\"data\": {\"url\": \"http://localhost:22805/9a74e69c81222438b932af0db2c70575.json\"}, \"mark\": \"point\", \"encoding\": {\"color\": {\"type\": \"nominal\", \"field\": \"region\", \"title\": \"Region:\"}, \"size\": {\"type\": \"quantitative\", \"field\": \"poblacion\", \"title\": \"Poblacion\"}, \"tooltip\": {\"type\": \"nominal\", \"field\": \"comuna\", \"title\": \"Comuna\"}, \"x\": {\"type\": \"quantitative\", \"field\": \"casos_confirmados\", \"title\": \"Casos confirmados\"}, \"y\": {\"type\": \"quantitative\", \"aggregate\": \"mean\", \"field\": \"tasa\", \"title\": \"Tasa\"}}, \"height\": 500, \"title\": \"6 de Noviembre del 2020\", \"width\": 500}], \"$schema\": \"https://vega.github.io/schema/vega-lite/v4.8.1.json\"}, {\"mode\": \"vega-lite\"});\n",
       "</script>"
      ],
      "text/plain": [
       "alt.HConcatChart(...)"
      ]
     },
     "execution_count": 74,
     "metadata": {},
     "output_type": "execute_result"
    }
   ],
   "source": [
    "abril = alt.Chart(confirmados.loc[lambda x: confirmados['fecha']==start_date ]).mark_point().encode(\n",
    "    x=alt.X('casos_confirmados', title='Casos confirmados'),\n",
    "    y=alt.Y('mean(tasa)', title= 'Tasa'),\n",
    "    color=alt.Color('region', title='Region:'),\n",
    "    tooltip=alt.Tooltip('comuna',title='Comuna'),\n",
    "    size=alt.Size('poblacion', title='Poblacion:')\n",
    ").properties(title='13 de Abril del 2020', width=500, height=500)\n",
    "\n",
    "\n",
    "noviembre = alt.Chart(confirmados.loc[lambda x: confirmados['fecha']==end_date ]).mark_point().encode(\n",
    "    x=alt.X('casos_confirmados', title='Casos confirmados'),\n",
    "    y=alt.Y('mean(tasa)', title= 'Tasa'),\n",
    "    color=alt.Color('region', title='Region:'),\n",
    "    tooltip=alt.Tooltip('comuna',title='Comuna'),\n",
    "    size=alt.Size('poblacion', title='Poblacion')\n",
    ").properties(title='6 de Noviembre del 2020', width=500, height=500)\n",
    "\n",
    "abril | noviembre"
   ]
  },
  {
   "cell_type": "markdown",
   "metadata": {},
   "source": [
    "## Ejercicio 7\n",
    "\n",
    "(10 puntos)\n",
    "\n",
    "1. Grafica la evolución de los casos activos de cada comuna en un solo gráfico. \n",
    "2. Grafica la evolución de los casos activos de cada comuna en gráficos separados por región.\n",
    "\n",
    "Entrega los pros y contras de cada uno de estos enfoques."
   ]
  },
  {
   "cell_type": "code",
   "execution_count": 78,
   "metadata": {},
   "outputs": [
    {
     "data": {
      "text/html": [
       "\n",
       "<div id=\"altair-viz-2303d882333b4b6b90086c0737a628ae\"></div>\n",
       "<script type=\"text/javascript\">\n",
       "  (function(spec, embedOpt){\n",
       "    let outputDiv = document.currentScript.previousElementSibling;\n",
       "    if (outputDiv.id !== \"altair-viz-2303d882333b4b6b90086c0737a628ae\") {\n",
       "      outputDiv = document.getElementById(\"altair-viz-2303d882333b4b6b90086c0737a628ae\");\n",
       "    }\n",
       "    const paths = {\n",
       "      \"vega\": \"https://cdn.jsdelivr.net/npm//vega@5?noext\",\n",
       "      \"vega-lib\": \"https://cdn.jsdelivr.net/npm//vega-lib?noext\",\n",
       "      \"vega-lite\": \"https://cdn.jsdelivr.net/npm//vega-lite@4.8.1?noext\",\n",
       "      \"vega-embed\": \"https://cdn.jsdelivr.net/npm//vega-embed@6?noext\",\n",
       "    };\n",
       "\n",
       "    function loadScript(lib) {\n",
       "      return new Promise(function(resolve, reject) {\n",
       "        var s = document.createElement('script');\n",
       "        s.src = paths[lib];\n",
       "        s.async = true;\n",
       "        s.onload = () => resolve(paths[lib]);\n",
       "        s.onerror = () => reject(`Error loading script: ${paths[lib]}`);\n",
       "        document.getElementsByTagName(\"head\")[0].appendChild(s);\n",
       "      });\n",
       "    }\n",
       "\n",
       "    function showError(err) {\n",
       "      outputDiv.innerHTML = `<div class=\"error\" style=\"color:red;\">${err}</div>`;\n",
       "      throw err;\n",
       "    }\n",
       "\n",
       "    function displayChart(vegaEmbed) {\n",
       "      vegaEmbed(outputDiv, spec, embedOpt)\n",
       "        .catch(err => showError(`Javascript Error: ${err.message}<br>This usually means there's a typo in your chart specification. See the javascript console for the full traceback.`));\n",
       "    }\n",
       "\n",
       "    if(typeof define === \"function\" && define.amd) {\n",
       "      requirejs.config({paths});\n",
       "      require([\"vega-embed\"], displayChart, err => showError(`Error loading script: ${err.message}`));\n",
       "    } else if (typeof vegaEmbed === \"function\") {\n",
       "      displayChart(vegaEmbed);\n",
       "    } else {\n",
       "      loadScript(\"vega\")\n",
       "        .then(() => loadScript(\"vega-lite\"))\n",
       "        .then(() => loadScript(\"vega-embed\"))\n",
       "        .catch(showError)\n",
       "        .then(() => displayChart(vegaEmbed));\n",
       "    }\n",
       "  })({\"config\": {\"background\": \"white\", \"view\": {\"continuousWidth\": 400, \"continuousHeight\": 300}}, \"data\": {\"url\": \"http://localhost:22805/95afd26f355c39968608775578f03425.json\"}, \"mark\": {\"type\": \"line\", \"size\": 3}, \"encoding\": {\"color\": {\"type\": \"nominal\", \"field\": \"comuna\", \"title\": \"Comuna:\"}, \"x\": {\"type\": \"temporal\", \"axis\": {\"title\": \"Mes\"}, \"field\": \"fecha\"}, \"y\": {\"type\": \"quantitative\", \"axis\": {\"title\": \"Casos activos\"}, \"field\": \"casos_activos\"}}, \"height\": 400, \"title\": \"Evolucion de casos activos\", \"width\": 500, \"$schema\": \"https://vega.github.io/schema/vega-lite/v4.8.1.json\"}, {\"mode\": \"vega-lite\"});\n",
       "</script>"
      ],
      "text/plain": [
       "alt.Chart(...)"
      ]
     },
     "execution_count": 78,
     "metadata": {},
     "output_type": "execute_result"
    }
   ],
   "source": [
    "casos_activos = alt.Chart(activos).mark_line(size=3).encode(\n",
    "    x=alt.X('fecha:T', axis=alt.Axis(title='Mes')),\n",
    "    y=alt.Y('casos_activos', axis=alt.Axis(title='Casos activos')),\n",
    "    color=alt.Color('comuna', title='Comuna:')\n",
    ").properties(title='Evolucion de casos activos', width=500, height=400)\n",
    "\n",
    "casos_activos"
   ]
  },
  {
   "cell_type": "code",
   "execution_count": 75,
   "metadata": {},
   "outputs": [
    {
     "data": {
      "text/html": [
       "\n",
       "<div id=\"altair-viz-e06eb3ce33f747a899261a30f19ed09e\"></div>\n",
       "<script type=\"text/javascript\">\n",
       "  (function(spec, embedOpt){\n",
       "    let outputDiv = document.currentScript.previousElementSibling;\n",
       "    if (outputDiv.id !== \"altair-viz-e06eb3ce33f747a899261a30f19ed09e\") {\n",
       "      outputDiv = document.getElementById(\"altair-viz-e06eb3ce33f747a899261a30f19ed09e\");\n",
       "    }\n",
       "    const paths = {\n",
       "      \"vega\": \"https://cdn.jsdelivr.net/npm//vega@5?noext\",\n",
       "      \"vega-lib\": \"https://cdn.jsdelivr.net/npm//vega-lib?noext\",\n",
       "      \"vega-lite\": \"https://cdn.jsdelivr.net/npm//vega-lite@4.8.1?noext\",\n",
       "      \"vega-embed\": \"https://cdn.jsdelivr.net/npm//vega-embed@6?noext\",\n",
       "    };\n",
       "\n",
       "    function loadScript(lib) {\n",
       "      return new Promise(function(resolve, reject) {\n",
       "        var s = document.createElement('script');\n",
       "        s.src = paths[lib];\n",
       "        s.async = true;\n",
       "        s.onload = () => resolve(paths[lib]);\n",
       "        s.onerror = () => reject(`Error loading script: ${paths[lib]}`);\n",
       "        document.getElementsByTagName(\"head\")[0].appendChild(s);\n",
       "      });\n",
       "    }\n",
       "\n",
       "    function showError(err) {\n",
       "      outputDiv.innerHTML = `<div class=\"error\" style=\"color:red;\">${err}</div>`;\n",
       "      throw err;\n",
       "    }\n",
       "\n",
       "    function displayChart(vegaEmbed) {\n",
       "      vegaEmbed(outputDiv, spec, embedOpt)\n",
       "        .catch(err => showError(`Javascript Error: ${err.message}<br>This usually means there's a typo in your chart specification. See the javascript console for the full traceback.`));\n",
       "    }\n",
       "\n",
       "    if(typeof define === \"function\" && define.amd) {\n",
       "      requirejs.config({paths});\n",
       "      require([\"vega-embed\"], displayChart, err => showError(`Error loading script: ${err.message}`));\n",
       "    } else if (typeof vegaEmbed === \"function\") {\n",
       "      displayChart(vegaEmbed);\n",
       "    } else {\n",
       "      loadScript(\"vega\")\n",
       "        .then(() => loadScript(\"vega-lite\"))\n",
       "        .then(() => loadScript(\"vega-embed\"))\n",
       "        .catch(showError)\n",
       "        .then(() => displayChart(vegaEmbed));\n",
       "    }\n",
       "  })({\"config\": {\"background\": \"white\", \"view\": {\"continuousWidth\": 400, \"continuousHeight\": 300}}, \"data\": {\"url\": \"http://localhost:22805/95afd26f355c39968608775578f03425.json\"}, \"mark\": \"line\", \"encoding\": {\"color\": {\"type\": \"nominal\", \"field\": \"comuna\", \"title\": \"Comuna\"}, \"column\": {\"type\": \"nominal\", \"field\": \"region\"}, \"tooltip\": [{\"type\": \"nominal\", \"field\": \"comuna\", \"title\": \"Comuna\"}, {\"type\": \"temporal\", \"field\": \"fecha\", \"title\": \"Fecha\"}], \"x\": {\"type\": \"temporal\", \"axis\": {\"title\": \"Mes\"}, \"field\": \"fecha\"}, \"y\": {\"type\": \"quantitative\", \"axis\": {\"title\": \"Casos activos\"}, \"field\": \"casos_activos\"}}, \"height\": 300, \"title\": \"Evolucion de casos activos\", \"width\": 350, \"$schema\": \"https://vega.github.io/schema/vega-lite/v4.8.1.json\"}, {\"mode\": \"vega-lite\"});\n",
       "</script>"
      ],
      "text/plain": [
       "alt.Chart(...)"
      ]
     },
     "execution_count": 75,
     "metadata": {},
     "output_type": "execute_result"
    }
   ],
   "source": [
    "casos_activos = alt.Chart(activos).mark_line().encode(\n",
    "    x=alt.X('fecha:T', axis=alt.Axis(title='Mes')),\n",
    "    y=alt.Y('casos_activos', axis=alt.Axis(title='Casos activos')),\n",
    "    color=alt.Color('comuna', title='Comuna'),\n",
    "    column='region',\n",
    "    tooltip=[alt.Tooltip('comuna',title='Comuna'), alt.Tooltip('fecha', title='Fecha')]\n",
    ").properties(title='Evolucion de casos activos', width=350, height=300)\n",
    "\n",
    "casos_activos"
   ]
  },
  {
   "cell_type": "markdown",
   "metadata": {},
   "source": [
    "**Comentarios:** Pros:\n",
    "Grafico 1: Es facil identificar las comunas con mayor cantidad de casos activos (colocando el mouse encima!) en determinada fecha\n",
    "\n",
    "Grafico 2: Podemos identificar las comunas con mayor cantidad de casos activos, pero por region. Visualmente se ve notablemente mas ordenado.\n",
    "\n",
    "Contras:\n",
    "Grafico 1: Se pierde mucha informacion por la cantidad de datos en tan poco espacio, no podemos diferenciar informacion por regiones.\n",
    "\n",
    "Grafico 2: Hacer comparaciones visualmente entre regiones puede resultar impreciso."
   ]
  },
  {
   "cell_type": "markdown",
   "metadata": {},
   "source": [
    "## Ejercicio 8\n",
    "\n",
    "(10 puntos)\n",
    "\n",
    "Hacer un gráfico que permita comparar rápidamente entre regiones su promedio de casos activos , máximo de casos confirmados y fallecidos. Utiliza los valores reales y apoyarlos con colores.\n",
    "\n",
    "Se adjunta el diccionario `region_names` con tal de reemplazar los nombres de las regiones en los datos `fallecidos` para poder unir con los otros datos. "
   ]
  },
  {
   "cell_type": "code",
   "execution_count": 16,
   "metadata": {},
   "outputs": [],
   "source": [
    "region_names = {\n",
    "    \"Araucanía\": \"La Araucanía\",\n",
    "    \"Aysén\": \"Aysén del General Carlos Ibáñez del Campo\",\n",
    "    \"Magallanes\": \"Magallanes y de la Antártica Chilena\",\n",
    "    \"Metropolitana\": \"Metropolitana de Santiago\",\n",
    "    \"O’Higgins\": \"Libertador General Bernardo O'Higgins\",\n",
    "}"
   ]
  },
  {
   "cell_type": "code",
   "execution_count": 79,
   "metadata": {},
   "outputs": [],
   "source": [
    "fallecidos['region']=fallecidos['region'].replace(region_names)"
   ]
  },
  {
   "cell_type": "markdown",
   "metadata": {},
   "source": [
    "**Comentarios:** RESPONDE AQUÍ"
   ]
  },
  {
   "cell_type": "markdown",
   "metadata": {},
   "source": [
    "## Ejercicio 9\n",
    "\n",
    "\n",
    "En este ejercicio buscaremos realizar un mini-dashboard respecto al estado de los casos de COVID-19 en Chile, por lo tanto utilizaremos haremos uso de datos geográficos de manera operacional (es decir, no nos preocuparemos de proyecciones en mapas ni nada por el estilo), lo único es que debes instalar `geopandas` en tu ambiente virtual y no olvidar actualizarlo en tu `environment.yml` para luego subirlo a tu repositorio de GitHub.\n",
    "\n",
    "Con tu ambiente activo (`conda activate mat281`) basta con ejecutar `conda install -c conda-forge geopandas` para instalar `geopandas`."
   ]
  },
  {
   "cell_type": "code",
   "execution_count": 17,
   "metadata": {},
   "outputs": [],
   "source": [
    "import geopandas as gpd\n",
    "from pathlib import Path"
   ]
  },
  {
   "cell_type": "code",
   "execution_count": 18,
   "metadata": {},
   "outputs": [
    {
     "data": {
      "text/html": [
       "<div>\n",
       "<style scoped>\n",
       "    .dataframe tbody tr th:only-of-type {\n",
       "        vertical-align: middle;\n",
       "    }\n",
       "\n",
       "    .dataframe tbody tr th {\n",
       "        vertical-align: top;\n",
       "    }\n",
       "\n",
       "    .dataframe thead th {\n",
       "        text-align: right;\n",
       "    }\n",
       "</style>\n",
       "<table border=\"1\" class=\"dataframe\">\n",
       "  <thead>\n",
       "    <tr style=\"text-align: right;\">\n",
       "      <th></th>\n",
       "      <th>Region</th>\n",
       "      <th>objectid</th>\n",
       "      <th>cir_sena</th>\n",
       "      <th>codregion</th>\n",
       "      <th>area_km</th>\n",
       "      <th>st_area_sh</th>\n",
       "      <th>st_length_</th>\n",
       "      <th>geometry</th>\n",
       "    </tr>\n",
       "  </thead>\n",
       "  <tbody>\n",
       "    <tr>\n",
       "      <th>0</th>\n",
       "      <td>Región Metropolitana de Santiago</td>\n",
       "      <td>1092</td>\n",
       "      <td>7</td>\n",
       "      <td>13</td>\n",
       "      <td>15392.030737</td>\n",
       "      <td>2.225204e+10</td>\n",
       "      <td>1.064253e+06</td>\n",
       "      <td>POLYGON ((-7873736.745 -3885505.642, -7873695....</td>\n",
       "    </tr>\n",
       "    <tr>\n",
       "      <th>1</th>\n",
       "      <td>Región de Antofagasta</td>\n",
       "      <td>1086</td>\n",
       "      <td>3</td>\n",
       "      <td>2</td>\n",
       "      <td>126071.431981</td>\n",
       "      <td>1.508452e+11</td>\n",
       "      <td>2.516112e+06</td>\n",
       "      <td>MULTIPOLYGON (((-7874671.129 -2977676.850, -78...</td>\n",
       "    </tr>\n",
       "    <tr>\n",
       "      <th>2</th>\n",
       "      <td>Región de Arica y Parinacota</td>\n",
       "      <td>1084</td>\n",
       "      <td>1</td>\n",
       "      <td>15</td>\n",
       "      <td>16866.819844</td>\n",
       "      <td>1.886869e+10</td>\n",
       "      <td>7.505296e+05</td>\n",
       "      <td>POLYGON ((-7727277.278 -1997230.768, -7726464....</td>\n",
       "    </tr>\n",
       "    <tr>\n",
       "      <th>3</th>\n",
       "      <td>Región de Atacama</td>\n",
       "      <td>1089</td>\n",
       "      <td>4</td>\n",
       "      <td>3</td>\n",
       "      <td>75661.248635</td>\n",
       "      <td>9.643906e+10</td>\n",
       "      <td>2.401741e+06</td>\n",
       "      <td>MULTIPOLYGON (((-7900342.628 -3153340.296, -79...</td>\n",
       "    </tr>\n",
       "    <tr>\n",
       "      <th>4</th>\n",
       "      <td>Región de Aysén del Gral.Ibañez del Campo</td>\n",
       "      <td>1088</td>\n",
       "      <td>14</td>\n",
       "      <td>11</td>\n",
       "      <td>106703.377369</td>\n",
       "      <td>2.242743e+11</td>\n",
       "      <td>4.144481e+07</td>\n",
       "      <td>MULTIPOLYGON (((-8208500.834 -5733817.475, -82...</td>\n",
       "    </tr>\n",
       "  </tbody>\n",
       "</table>\n",
       "</div>"
      ],
      "text/plain": [
       "                                      Region  objectid  cir_sena  codregion  \\\n",
       "0           Región Metropolitana de Santiago      1092         7         13   \n",
       "1                      Región de Antofagasta      1086         3          2   \n",
       "2               Región de Arica y Parinacota      1084         1         15   \n",
       "3                          Región de Atacama      1089         4          3   \n",
       "4  Región de Aysén del Gral.Ibañez del Campo      1088        14         11   \n",
       "\n",
       "         area_km    st_area_sh    st_length_  \\\n",
       "0   15392.030737  2.225204e+10  1.064253e+06   \n",
       "1  126071.431981  1.508452e+11  2.516112e+06   \n",
       "2   16866.819844  1.886869e+10  7.505296e+05   \n",
       "3   75661.248635  9.643906e+10  2.401741e+06   \n",
       "4  106703.377369  2.242743e+11  4.144481e+07   \n",
       "\n",
       "                                            geometry  \n",
       "0  POLYGON ((-7873736.745 -3885505.642, -7873695....  \n",
       "1  MULTIPOLYGON (((-7874671.129 -2977676.850, -78...  \n",
       "2  POLYGON ((-7727277.278 -1997230.768, -7726464....  \n",
       "3  MULTIPOLYGON (((-7900342.628 -3153340.296, -79...  \n",
       "4  MULTIPOLYGON (((-8208500.834 -5733817.475, -82...  "
      ]
     },
     "execution_count": 18,
     "metadata": {},
     "output_type": "execute_result"
    }
   ],
   "source": [
    "shp_filepath = Path().resolve().parent / \"data\" / \"regiones_chile.shp\"\n",
    "regiones = gpd.read_file(shp_filepath)\n",
    "regiones.head()"
   ]
  },
  {
   "cell_type": "code",
   "execution_count": 19,
   "metadata": {},
   "outputs": [
    {
     "data": {
      "text/plain": [
       "geopandas.geodataframe.GeoDataFrame"
      ]
     },
     "execution_count": 19,
     "metadata": {},
     "output_type": "execute_result"
    }
   ],
   "source": [
    "type(regiones)"
   ]
  },
  {
   "cell_type": "markdown",
   "metadata": {},
   "source": [
    "Lo único que tienes que saber es que un `GeoDataFrame` es idéntico a un `DataFrame` salvo que debe poseer una columna llamada `geometry` caracterice los elementros geométricos, que en este casos son polígonos con los límites de las regiones de Chile. \n",
    "\n",
    "Para graficar mapas en Altair se debe usar `mark_geoshape`, además, para no preocuparnos de las proyecciones si o si debes declarar lo siguiente que se muestra en la siguiente celda en las propiedades del gráfico. El resto es igual a cualquier otro gráfico de Altair."
   ]
  },
  {
   "cell_type": "code",
   "execution_count": 20,
   "metadata": {},
   "outputs": [
    {
     "data": {
      "text/html": [
       "\n",
       "<div id=\"altair-viz-c1213c44db314c7aa61bf7be19bc8eda\"></div>\n",
       "<script type=\"text/javascript\">\n",
       "  (function(spec, embedOpt){\n",
       "    let outputDiv = document.currentScript.previousElementSibling;\n",
       "    if (outputDiv.id !== \"altair-viz-c1213c44db314c7aa61bf7be19bc8eda\") {\n",
       "      outputDiv = document.getElementById(\"altair-viz-c1213c44db314c7aa61bf7be19bc8eda\");\n",
       "    }\n",
       "    const paths = {\n",
       "      \"vega\": \"https://cdn.jsdelivr.net/npm//vega@5?noext\",\n",
       "      \"vega-lib\": \"https://cdn.jsdelivr.net/npm//vega-lib?noext\",\n",
       "      \"vega-lite\": \"https://cdn.jsdelivr.net/npm//vega-lite@4.8.1?noext\",\n",
       "      \"vega-embed\": \"https://cdn.jsdelivr.net/npm//vega-embed@6?noext\",\n",
       "    };\n",
       "\n",
       "    function loadScript(lib) {\n",
       "      return new Promise(function(resolve, reject) {\n",
       "        var s = document.createElement('script');\n",
       "        s.src = paths[lib];\n",
       "        s.async = true;\n",
       "        s.onload = () => resolve(paths[lib]);\n",
       "        s.onerror = () => reject(`Error loading script: ${paths[lib]}`);\n",
       "        document.getElementsByTagName(\"head\")[0].appendChild(s);\n",
       "      });\n",
       "    }\n",
       "\n",
       "    function showError(err) {\n",
       "      outputDiv.innerHTML = `<div class=\"error\" style=\"color:red;\">${err}</div>`;\n",
       "      throw err;\n",
       "    }\n",
       "\n",
       "    function displayChart(vegaEmbed) {\n",
       "      vegaEmbed(outputDiv, spec, embedOpt)\n",
       "        .catch(err => showError(`Javascript Error: ${err.message}<br>This usually means there's a typo in your chart specification. See the javascript console for the full traceback.`));\n",
       "    }\n",
       "\n",
       "    if(typeof define === \"function\" && define.amd) {\n",
       "      requirejs.config({paths});\n",
       "      require([\"vega-embed\"], displayChart, err => showError(`Error loading script: ${err.message}`));\n",
       "    } else if (typeof vegaEmbed === \"function\") {\n",
       "      displayChart(vegaEmbed);\n",
       "    } else {\n",
       "      loadScript(\"vega\")\n",
       "        .then(() => loadScript(\"vega-lite\"))\n",
       "        .then(() => loadScript(\"vega-embed\"))\n",
       "        .catch(showError)\n",
       "        .then(() => displayChart(vegaEmbed));\n",
       "    }\n",
       "  })({\"config\": {\"background\": \"white\", \"view\": {\"continuousWidth\": 400, \"continuousHeight\": 300}}, \"data\": {\"url\": \"http://localhost:22805/cf0d87eb1cf197560a8abce327b00980.json\"}, \"mark\": \"geoshape\", \"encoding\": {}, \"height\": 600, \"projection\": {\"type\": \"identity\", \"reflectY\": true}, \"width\": 250, \"$schema\": \"https://vega.github.io/schema/vega-lite/v4.8.1.json\"}, {\"mode\": \"vega-lite\"});\n",
       "</script>"
      ],
      "text/plain": [
       "alt.Chart(...)"
      ]
     },
     "execution_count": 20,
     "metadata": {},
     "output_type": "execute_result"
    }
   ],
   "source": [
    "alt.Chart(regiones).mark_geoshape().encode(\n",
    ").properties(\n",
    "    projection={'type': 'identity', 'reflectY': True},\n",
    "    width=250,\n",
    "    height=600\n",
    ")"
   ]
  },
  {
   "cell_type": "markdown",
   "metadata": {},
   "source": [
    "### Ejercicio 9.1\n",
    "\n",
    "(10 puntos)\n",
    "\n",
    "Define el `DataFrame` con el nombre `casos_geo` tal que tenga las columnas\n",
    "\n",
    "* `region`\n",
    "* `codigo_region`\n",
    "* `fecha`\n",
    "* `poblacion`\n",
    "* `casos_confirmados`\n",
    "* `tasa`\n",
    "* `casos_activos`\n",
    "* `fallecidos`\n",
    "* `geometry`\n",
    "\n",
    "Ten mucho cuidado como unes los dataframes `confirmados`, `activos`, `fallecidos` y `regiones`. Idealmente utilizar el código de región, pero en caso que no se encuentren disponibles utilizar el nombre de la región (no olivdar utilizar el diccionario `region_names`)."
   ]
  },
  {
   "cell_type": "code",
   "execution_count": 21,
   "metadata": {},
   "outputs": [
    {
     "ename": "AttributeError",
     "evalue": "'tuple' object has no attribute 'head'",
     "output_type": "error",
     "traceback": [
      "\u001b[1;31m---------------------------------------------------------------------------\u001b[0m",
      "\u001b[1;31mAttributeError\u001b[0m                            Traceback (most recent call last)",
      "\u001b[1;32m<ipython-input-21-42724188b65c>\u001b[0m in \u001b[0;36m<module>\u001b[1;34m\u001b[0m\n\u001b[0;32m      3\u001b[0m )\n\u001b[0;32m      4\u001b[0m \u001b[1;33m\u001b[0m\u001b[0m\n\u001b[1;32m----> 5\u001b[1;33m \u001b[0mcasos_geo\u001b[0m\u001b[1;33m.\u001b[0m\u001b[0mhead\u001b[0m\u001b[1;33m(\u001b[0m\u001b[1;33m)\u001b[0m\u001b[1;33m\u001b[0m\u001b[1;33m\u001b[0m\u001b[0m\n\u001b[0m",
      "\u001b[1;31mAttributeError\u001b[0m: 'tuple' object has no attribute 'head'"
     ]
    }
   ],
   "source": [
    "casos_geo = (\n",
    "    # FIX ME #\n",
    ")\n",
    "\n",
    "casos_geo.head()"
   ]
  },
  {
   "cell_type": "markdown",
   "metadata": {},
   "source": [
    "Ejecuta lo siguiente para convertir el DataFrame anterior en un GeoDataFrames"
   ]
  },
  {
   "cell_type": "code",
   "execution_count": null,
   "metadata": {},
   "outputs": [],
   "source": [
    "casos_geo = casos_geo.pipe(lambda x: gpd.GeoDataFrame(x, geometry=\"geometry\"))"
   ]
  },
  {
   "cell_type": "markdown",
   "metadata": {},
   "source": [
    "### Ejercicio 9.2\n",
    "\n",
    "(5 puntos)\n",
    "\n",
    "Modifica la función `covid_chile_chart` tal que reciba una fecha y una columna. Luego, debe filtrar `casos_geo` con registros de la fecha seleccionada y graficar un mapa donde las regiones se colereen según la columna escogida. "
   ]
  },
  {
   "cell_type": "code",
   "execution_count": null,
   "metadata": {},
   "outputs": [],
   "source": [
    "def covid_chile_chart(fecha, col):\n",
    "    \n",
    "    fecha = pd.to_datetime(fecha)\n",
    "    data = # FIX ME #\n",
    "    \n",
    "    chart = alt.Chart(data).mark_geoshape().encode(\n",
    "        # FIX ME #\n",
    "    ).properties(\n",
    "        projection={'type': 'identity', 'reflectY': True},\n",
    "        width=150,\n",
    "        height=400\n",
    "    )\n",
    "    \n",
    "    chart.display()\n",
    "    return"
   ]
  },
  {
   "cell_type": "markdown",
   "metadata": {},
   "source": [
    "Prueba con lo siguiente"
   ]
  },
  {
   "cell_type": "code",
   "execution_count": null,
   "metadata": {},
   "outputs": [],
   "source": [
    "fecha = \"2020-04-13\"\n",
    "col = \"tasa\"\n",
    "covid_chile_chart(fecha, col)"
   ]
  },
  {
   "cell_type": "markdown",
   "metadata": {},
   "source": [
    "### Ejercicio 9.3\n",
    "\n",
    "(5 puntos)\n",
    "\n",
    "Ahora utilizando `widgets` generaremos el dashboard interactivo. Define lo siguiente:\n",
    "\n",
    "* col_widget: Un `widgets.Dropdown` donde las opciones a seleccionar sean las columnas `poblacion`, `casos_confirmados`, `tasa`, `casos_activos` y `fallecidos`. Además, el argumento `description` debe ser `Columna`.\n",
    "* fecha_widget: Un `widgets.DatePicker` donde el argumento `description` sea `Fecha`.\n",
    "* Ambos widgets deben tener el argumento `continuous_update=False`"
   ]
  },
  {
   "cell_type": "code",
   "execution_count": null,
   "metadata": {},
   "outputs": [],
   "source": [
    "import ipywidgets as widgets\n",
    "from ipywidgets import interactive, interact"
   ]
  },
  {
   "cell_type": "code",
   "execution_count": null,
   "metadata": {},
   "outputs": [],
   "source": [
    "col_widget = # FIX ME #"
   ]
  },
  {
   "cell_type": "code",
   "execution_count": null,
   "metadata": {},
   "outputs": [],
   "source": [
    "fecha_widget = # FIX ME #"
   ]
  },
  {
   "cell_type": "markdown",
   "metadata": {},
   "source": [
    "Finalmente, haciendo uso de `interactive`, la función `covid_chile_chart` y todos los widgets es posible crear un _dashboard_ interactivo con los datos de Covid-19.\n",
    "\n",
    "Respira profundo y explora tu creación!"
   ]
  },
  {
   "cell_type": "code",
   "execution_count": null,
   "metadata": {},
   "outputs": [],
   "source": [
    "covid_dashboard = interactive(\n",
    "    covid_chile_chart,\n",
    "    fecha=fecha_widget,\n",
    "    col=col_widget\n",
    ")\n",
    "covid_dashboard"
   ]
  },
  {
   "cell_type": "markdown",
   "metadata": {},
   "source": [
    "**Comentarios:** RESPONDE AQUÍ"
   ]
  }
 ],
 "metadata": {
  "kernelspec": {
   "display_name": "Python 3",
   "language": "python",
   "name": "python3"
  },
  "language_info": {
   "codemirror_mode": {
    "name": "ipython",
    "version": 3
   },
   "file_extension": ".py",
   "mimetype": "text/x-python",
   "name": "python",
   "nbconvert_exporter": "python",
   "pygments_lexer": "ipython3",
   "version": "3.7.8"
  }
 },
 "nbformat": 4,
 "nbformat_minor": 4
}
